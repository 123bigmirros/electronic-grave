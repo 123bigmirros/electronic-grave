{
 "cells": [
  {
   "cell_type": "markdown",
   "id": "134a0785",
   "metadata": {},
   "source": [
    "# import pacakge and set up environment"
   ]
  },
  {
   "cell_type": "code",
   "execution_count": 10,
   "id": "70c4e529",
   "metadata": {
    "tags": []
   },
   "outputs": [],
   "source": [
    "from langchain.embeddings.openai import OpenAIEmbeddings\n",
    "from langchain.vectorstores import Chroma, FAISS\n",
    "from langchain.text_splitter import CharacterTextSplitter\n",
    "from langchain.llms import OpenAI\n",
    "from langchain.chains import ConversationalRetrievalChain, LLMChain\n",
    "from langchain.schema import Document\n",
    "from langchain.chat_models import ChatOpenAI \n",
    "from langchain.chains.qa_with_sources import load_qa_with_sources_chain\n",
    "from langchain.chains.conversational_retrieval.prompts import CONDENSE_QUESTION_PROMPT\n",
    "import faiss\n",
    "import pickle\n",
    "import os\n",
    "import requests\n",
    "import json\n",
    "from bs4 import BeautifulSoup\n",
    "os.environ[\"OPENAI_API_BASE\"] = \"https://api.chatanywhere.tech/v1\"\n",
    "os.environ[\"OPENAI_API_KEY\"] = \"sk-X6qmvKSqTxaeFIrmq9v2KlAN6QJEKwxi6eGX5ads7wYERbx0\""
   ]
  },
  {
   "cell_type": "markdown",
   "id": "cdff94be",
   "metadata": {},
   "source": [
    "# Loading data from Strikingly "
   ]
  },
  {
   "cell_type": "code",
   "execution_count": 11,
   "id": "01c46e92",
   "metadata": {
    "tags": []
   },
   "outputs": [
    {
     "name": "stdout",
     "output_type": "stream",
     "text": [
      "dict_keys(['id', 'url', 'html_url', 'author_id', 'comments_disabled', 'draft', 'promoted', 'position', 'vote_sum', 'vote_count', 'section_id', 'created_at', 'updated_at', 'name', 'title', 'source_locale', 'locale', 'outdated', 'outdated_locales', 'edited_at', 'user_segment_id', 'permission_group_id', 'content_tag_ids', 'label_names', 'body'])\n",
      "dict_keys(['id', 'url', 'html_url', 'author_id', 'comments_disabled', 'draft', 'promoted', 'position', 'vote_sum', 'vote_count', 'section_id', 'created_at', 'updated_at', 'name', 'title', 'source_locale', 'locale', 'outdated', 'outdated_locales', 'edited_at', 'user_segment_id', 'permission_group_id', 'content_tag_ids', 'label_names', 'body'])\n",
      "dict_keys(['id', 'url', 'html_url', 'author_id', 'comments_disabled', 'draft', 'promoted', 'position', 'vote_sum', 'vote_count', 'section_id', 'created_at', 'updated_at', 'name', 'title', 'source_locale', 'locale', 'outdated', 'outdated_locales', 'edited_at', 'user_segment_id', 'permission_group_id', 'content_tag_ids', 'label_names', 'body'])\n",
      "dict_keys(['id', 'url', 'html_url', 'author_id', 'comments_disabled', 'draft', 'promoted', 'position', 'vote_sum', 'vote_count', 'section_id', 'created_at', 'updated_at', 'name', 'title', 'source_locale', 'locale', 'outdated', 'outdated_locales', 'edited_at', 'user_segment_id', 'permission_group_id', 'content_tag_ids', 'label_names', 'body'])\n",
      "dict_keys(['id', 'url', 'html_url', 'author_id', 'comments_disabled', 'draft', 'promoted', 'position', 'vote_sum', 'vote_count', 'section_id', 'created_at', 'updated_at', 'name', 'title', 'source_locale', 'locale', 'outdated', 'outdated_locales', 'edited_at', 'user_segment_id', 'permission_group_id', 'content_tag_ids', 'label_names', 'body'])\n",
      "dict_keys(['id', 'url', 'html_url', 'author_id', 'comments_disabled', 'draft', 'promoted', 'position', 'vote_sum', 'vote_count', 'section_id', 'created_at', 'updated_at', 'name', 'title', 'source_locale', 'locale', 'outdated', 'outdated_locales', 'edited_at', 'user_segment_id', 'permission_group_id', 'content_tag_ids', 'label_names', 'body'])\n",
      "dict_keys(['id', 'url', 'html_url', 'author_id', 'comments_disabled', 'draft', 'promoted', 'position', 'vote_sum', 'vote_count', 'section_id', 'created_at', 'updated_at', 'name', 'title', 'source_locale', 'locale', 'outdated', 'outdated_locales', 'edited_at', 'user_segment_id', 'permission_group_id', 'content_tag_ids', 'label_names', 'body'])\n",
      "dict_keys(['id', 'url', 'html_url', 'author_id', 'comments_disabled', 'draft', 'promoted', 'position', 'vote_sum', 'vote_count', 'section_id', 'created_at', 'updated_at', 'name', 'title', 'source_locale', 'locale', 'outdated', 'outdated_locales', 'edited_at', 'user_segment_id', 'permission_group_id', 'content_tag_ids', 'label_names', 'body'])\n",
      "dict_keys(['id', 'url', 'html_url', 'author_id', 'comments_disabled', 'draft', 'promoted', 'position', 'vote_sum', 'vote_count', 'section_id', 'created_at', 'updated_at', 'name', 'title', 'source_locale', 'locale', 'outdated', 'outdated_locales', 'edited_at', 'user_segment_id', 'permission_group_id', 'content_tag_ids', 'label_names', 'body'])\n",
      "dict_keys(['id', 'url', 'html_url', 'author_id', 'comments_disabled', 'draft', 'promoted', 'position', 'vote_sum', 'vote_count', 'section_id', 'created_at', 'updated_at', 'name', 'title', 'source_locale', 'locale', 'outdated', 'outdated_locales', 'edited_at', 'user_segment_id', 'permission_group_id', 'content_tag_ids', 'label_names', 'body'])\n",
      "dict_keys(['id', 'url', 'html_url', 'author_id', 'comments_disabled', 'draft', 'promoted', 'position', 'vote_sum', 'vote_count', 'section_id', 'created_at', 'updated_at', 'name', 'title', 'source_locale', 'locale', 'outdated', 'outdated_locales', 'edited_at', 'user_segment_id', 'permission_group_id', 'content_tag_ids', 'label_names', 'body'])\n",
      "dict_keys(['id', 'url', 'html_url', 'author_id', 'comments_disabled', 'draft', 'promoted', 'position', 'vote_sum', 'vote_count', 'section_id', 'created_at', 'updated_at', 'name', 'title', 'source_locale', 'locale', 'outdated', 'outdated_locales', 'edited_at', 'user_segment_id', 'permission_group_id', 'content_tag_ids', 'label_names', 'body'])\n",
      "dict_keys(['id', 'url', 'html_url', 'author_id', 'comments_disabled', 'draft', 'promoted', 'position', 'vote_sum', 'vote_count', 'section_id', 'created_at', 'updated_at', 'name', 'title', 'source_locale', 'locale', 'outdated', 'outdated_locales', 'edited_at', 'user_segment_id', 'permission_group_id', 'content_tag_ids', 'label_names', 'body'])\n",
      "dict_keys(['id', 'url', 'html_url', 'author_id', 'comments_disabled', 'draft', 'promoted', 'position', 'vote_sum', 'vote_count', 'section_id', 'created_at', 'updated_at', 'name', 'title', 'source_locale', 'locale', 'outdated', 'outdated_locales', 'edited_at', 'user_segment_id', 'permission_group_id', 'content_tag_ids', 'label_names', 'body'])\n",
      "dict_keys(['id', 'url', 'html_url', 'author_id', 'comments_disabled', 'draft', 'promoted', 'position', 'vote_sum', 'vote_count', 'section_id', 'created_at', 'updated_at', 'name', 'title', 'source_locale', 'locale', 'outdated', 'outdated_locales', 'edited_at', 'user_segment_id', 'permission_group_id', 'content_tag_ids', 'label_names', 'body'])\n",
      "dict_keys(['id', 'url', 'html_url', 'author_id', 'comments_disabled', 'draft', 'promoted', 'position', 'vote_sum', 'vote_count', 'section_id', 'created_at', 'updated_at', 'name', 'title', 'source_locale', 'locale', 'outdated', 'outdated_locales', 'edited_at', 'user_segment_id', 'permission_group_id', 'content_tag_ids', 'label_names', 'body'])\n",
      "dict_keys(['id', 'url', 'html_url', 'author_id', 'comments_disabled', 'draft', 'promoted', 'position', 'vote_sum', 'vote_count', 'section_id', 'created_at', 'updated_at', 'name', 'title', 'source_locale', 'locale', 'outdated', 'outdated_locales', 'edited_at', 'user_segment_id', 'permission_group_id', 'content_tag_ids', 'label_names', 'body'])\n",
      "dict_keys(['id', 'url', 'html_url', 'author_id', 'comments_disabled', 'draft', 'promoted', 'position', 'vote_sum', 'vote_count', 'section_id', 'created_at', 'updated_at', 'name', 'title', 'source_locale', 'locale', 'outdated', 'outdated_locales', 'edited_at', 'user_segment_id', 'permission_group_id', 'content_tag_ids', 'label_names', 'body'])\n",
      "dict_keys(['id', 'url', 'html_url', 'author_id', 'comments_disabled', 'draft', 'promoted', 'position', 'vote_sum', 'vote_count', 'section_id', 'created_at', 'updated_at', 'name', 'title', 'source_locale', 'locale', 'outdated', 'outdated_locales', 'edited_at', 'user_segment_id', 'permission_group_id', 'content_tag_ids', 'label_names', 'body'])\n",
      "dict_keys(['id', 'url', 'html_url', 'author_id', 'comments_disabled', 'draft', 'promoted', 'position', 'vote_sum', 'vote_count', 'section_id', 'created_at', 'updated_at', 'name', 'title', 'source_locale', 'locale', 'outdated', 'outdated_locales', 'edited_at', 'user_segment_id', 'permission_group_id', 'content_tag_ids', 'label_names', 'body'])\n",
      "dict_keys(['id', 'url', 'html_url', 'author_id', 'comments_disabled', 'draft', 'promoted', 'position', 'vote_sum', 'vote_count', 'section_id', 'created_at', 'updated_at', 'name', 'title', 'source_locale', 'locale', 'outdated', 'outdated_locales', 'edited_at', 'user_segment_id', 'permission_group_id', 'content_tag_ids', 'label_names', 'body'])\n",
      "dict_keys(['id', 'url', 'html_url', 'author_id', 'comments_disabled', 'draft', 'promoted', 'position', 'vote_sum', 'vote_count', 'section_id', 'created_at', 'updated_at', 'name', 'title', 'source_locale', 'locale', 'outdated', 'outdated_locales', 'edited_at', 'user_segment_id', 'permission_group_id', 'content_tag_ids', 'label_names', 'body'])\n",
      "dict_keys(['id', 'url', 'html_url', 'author_id', 'comments_disabled', 'draft', 'promoted', 'position', 'vote_sum', 'vote_count', 'section_id', 'created_at', 'updated_at', 'name', 'title', 'source_locale', 'locale', 'outdated', 'outdated_locales', 'edited_at', 'user_segment_id', 'permission_group_id', 'content_tag_ids', 'label_names', 'body'])\n",
      "dict_keys(['id', 'url', 'html_url', 'author_id', 'comments_disabled', 'draft', 'promoted', 'position', 'vote_sum', 'vote_count', 'section_id', 'created_at', 'updated_at', 'name', 'title', 'source_locale', 'locale', 'outdated', 'outdated_locales', 'edited_at', 'user_segment_id', 'permission_group_id', 'content_tag_ids', 'label_names', 'body'])\n",
      "dict_keys(['id', 'url', 'html_url', 'author_id', 'comments_disabled', 'draft', 'promoted', 'position', 'vote_sum', 'vote_count', 'section_id', 'created_at', 'updated_at', 'name', 'title', 'source_locale', 'locale', 'outdated', 'outdated_locales', 'edited_at', 'user_segment_id', 'permission_group_id', 'content_tag_ids', 'label_names', 'body'])\n",
      "dict_keys(['id', 'url', 'html_url', 'author_id', 'comments_disabled', 'draft', 'promoted', 'position', 'vote_sum', 'vote_count', 'section_id', 'created_at', 'updated_at', 'name', 'title', 'source_locale', 'locale', 'outdated', 'outdated_locales', 'edited_at', 'user_segment_id', 'permission_group_id', 'content_tag_ids', 'label_names', 'body'])\n",
      "dict_keys(['id', 'url', 'html_url', 'author_id', 'comments_disabled', 'draft', 'promoted', 'position', 'vote_sum', 'vote_count', 'section_id', 'created_at', 'updated_at', 'name', 'title', 'source_locale', 'locale', 'outdated', 'outdated_locales', 'edited_at', 'user_segment_id', 'permission_group_id', 'content_tag_ids', 'label_names', 'body'])\n",
      "dict_keys(['id', 'url', 'html_url', 'author_id', 'comments_disabled', 'draft', 'promoted', 'position', 'vote_sum', 'vote_count', 'section_id', 'created_at', 'updated_at', 'name', 'title', 'source_locale', 'locale', 'outdated', 'outdated_locales', 'edited_at', 'user_segment_id', 'permission_group_id', 'content_tag_ids', 'label_names', 'body'])\n",
      "dict_keys(['id', 'url', 'html_url', 'author_id', 'comments_disabled', 'draft', 'promoted', 'position', 'vote_sum', 'vote_count', 'section_id', 'created_at', 'updated_at', 'name', 'title', 'source_locale', 'locale', 'outdated', 'outdated_locales', 'edited_at', 'user_segment_id', 'permission_group_id', 'content_tag_ids', 'label_names', 'body'])\n",
      "dict_keys(['id', 'url', 'html_url', 'author_id', 'comments_disabled', 'draft', 'promoted', 'position', 'vote_sum', 'vote_count', 'section_id', 'created_at', 'updated_at', 'name', 'title', 'source_locale', 'locale', 'outdated', 'outdated_locales', 'edited_at', 'user_segment_id', 'permission_group_id', 'content_tag_ids', 'label_names', 'body'])\n"
     ]
    }
   ],
   "source": [
    "r = requests.get(\"https://support.strikingly.com/api/v2/help_center/en-us/articles.json\")\n",
    "articles_info = json.loads(r.text)['articles']\n",
    "pages = []\n",
    "\n",
    "def extract_text_from(html):\n",
    "    soup = BeautifulSoup(html, features=\"html.parser\")\n",
    "    text = soup.get_text()\n",
    "    lines = (line.strip() for line in text.splitlines())\n",
    "    return '\\n'.join(line for line in lines if line)\n",
    "for article in articles_info:\n",
    "    print(article.keys())\n",
    "    pages.append({'text': extract_text_from(article['body']), 'source': article['html_url']})\n",
    "    "
   ]
  },
  {
   "cell_type": "markdown",
   "id": "a8930cf7",
   "metadata": {
    "tags": []
   },
   "source": [
    "# Process data"
   ]
  },
  {
   "cell_type": "code",
   "execution_count": 12,
   "id": "d98658ff",
   "metadata": {},
   "outputs": [
    {
     "name": "stdout",
     "output_type": "stream",
     "text": [
      "Split https://support.strikingly.com/hc/en-us/articles/33571866019995-Adding-Images-to-Your-Website into 1 chunks\n",
      "Split https://support.strikingly.com/hc/en-us/articles/33195129962651-Strikingly-s-AI-Logo-Maker into 1 chunks\n",
      "Split https://support.strikingly.com/hc/en-us/articles/32500484566811-Strikingly-AI-Site-Builder into 1 chunks\n",
      "Split https://support.strikingly.com/hc/en-us/articles/30097621863835-Strikingly-Email-Creating-Filters-on-Webmail into 1 chunks\n",
      "Split https://support.strikingly.com/hc/en-us/articles/25888063899931-How-do-I-delete-a-form into 1 chunks\n",
      "Split https://support.strikingly.com/hc/en-us/articles/25585768352667-Can-I-upload-a-pdf-file-document-for-my-visitors-to-download into 1 chunks\n",
      "Split https://support.strikingly.com/hc/en-us/articles/25511392983195-Can-my-website-carry-my-name into 1 chunks\n",
      "Split https://support.strikingly.com/hc/en-us/articles/25511191343899-How-can-I-forward-redirect-my-domain-from-another-registrar-to-my-Strikingly-domain into 1 chunks\n",
      "Split https://support.strikingly.com/hc/en-us/articles/25410099784475-How-can-I-save-my-website-or-page-as-pdf into 1 chunks\n",
      "Split https://support.strikingly.com/hc/en-us/articles/25409142989851-How-to-build-a-website into 1 chunks\n",
      "Split https://support.strikingly.com/hc/en-us/articles/25407824856859-How-to-archive-articles into 1 chunks\n",
      "Split https://support.strikingly.com/hc/en-us/articles/25405615342875-Can-you-explain-how-Strikingly-works into 1 chunks\n",
      "Split https://support.strikingly.com/hc/en-us/articles/25370251760539-Can-you-leave-your-contact-number-so-we-can-exchange-messages-on-WhatsApp into 1 chunks\n",
      "Split https://support.strikingly.com/hc/en-us/articles/25370035353243-How-much-is-the-11-discount into 1 chunks\n",
      "Split https://support.strikingly.com/hc/en-us/articles/25369854499483-Is-it-possible-to-animate-text-for-my-website into 1 chunks\n",
      "Split https://support.strikingly.com/hc/en-us/articles/25369726311707-I-want-to-create-an-app-that-can-sell into 1 chunks\n",
      "Split https://support.strikingly.com/hc/en-us/articles/25369136484507-Can-I-download-my-website into 1 chunks\n",
      "Split https://support.strikingly.com/hc/en-us/articles/25304580611355-Can-I-change-the-content-of-my-website-to-another-language into 1 chunks\n",
      "Split https://support.strikingly.com/hc/en-us/articles/25257399185179-Can-I-Edit-my-Website-Using-My-Smartphone-Mobile-phone into 1 chunks\n",
      "Split https://support.strikingly.com/hc/en-us/articles/25197168871835-Can-I-add-a-review-section-aside-from-the-product-reviews into 1 chunks\n",
      "Split https://support.strikingly.com/hc/en-us/articles/25197101328027-I-want-an-app-website-I-want-to-create-an-app-Can-I-create-an-application-using-Strikingly into 1 chunks\n",
      "Split https://support.strikingly.com/hc/en-us/articles/25179807880859-Price-Cost-for-Subscription into 1 chunks\n",
      "Split https://support.strikingly.com/hc/en-us/articles/25161475090587--Common-Kickstart-Questions-Do-I-need-to-do-anything-else-within-48-to-72-hours-while-my-website-is-created into 1 chunks\n",
      "Split https://support.strikingly.com/hc/en-us/articles/25054119316251-Can-I-get-a-copy-of-my-website-s-HTML-file into 1 chunks\n",
      "Split https://support.strikingly.com/hc/en-us/articles/24989258920987-Can-I-Change-a-Specific-Section-s-Font into 1 chunks\n",
      "Split https://support.strikingly.com/hc/en-us/articles/24985652742683-I-want-to-create-a-Facebook-page into 1 chunks\n",
      "Split https://support.strikingly.com/hc/en-us/articles/24985345266075--Can-I-schedule-an-appointment into 1 chunks\n",
      "Split https://support.strikingly.com/hc/en-us/articles/24985127984283-I-Need-A-Business-Advice into 1 chunks\n",
      "Split https://support.strikingly.com/hc/en-us/articles/24737549672475-The-Infographic-Section into 1 chunks\n",
      "Split https://support.strikingly.com/hc/en-us/articles/24731669705115-The-Grid-Section into 1 chunks\n"
     ]
    }
   ],
   "source": [
    "\n",
    "\n",
    "text_splitter = CharacterTextSplitter(chunk_size=1500, chunk_overlap=0)\n",
    "docs = []\n",
    "for page in pages:\n",
    "    splits = text_splitter.split_text(page['text'])\n",
    "    # 将每个文本片段转换为 Document 对象\n",
    "    for split in splits:\n",
    "        doc = Document(page_content=split, metadata={\"source\": page['source']})\n",
    "        docs.append(doc)\n",
    "    print(f\"Split {page['source']} into {len(splits)} chunks\")\n",
    "\n",
    "embeddings = OpenAIEmbeddings()\n",
    "vectorstore = FAISS.from_documents(docs, embeddings)\n"
   ]
  },
  {
   "cell_type": "markdown",
   "id": "4774c73a",
   "metadata": {},
   "source": [
    "# Method 1"
   ]
  },
  {
   "cell_type": "code",
   "execution_count": 13,
   "id": "f789f37b",
   "metadata": {},
   "outputs": [
    {
     "name": "stdout",
     "output_type": "stream",
     "text": [
      "Answer:To add images to your website on Strikingly, you can follow these steps:\n",
      "\n",
      "1. Adding Images in Sections:\n",
      "- In the Site Editor, click on \"Add New Section\" on the left side of the screen.\n",
      "- Under the “Image & Video” category, choose the section you want to add images to (Big Media, Banner Slider, Grid, etc.).\n",
      "- Upload your image(s) and adjust settings as needed.\n",
      "\n",
      "2. Adding Images to Other Sections:\n",
      "- You can add images to sections like Gallery, Team, Testimonials, Feature List, Portfolio, Store, and Blog.\n",
      "- For example, in the Gallery Section, click \"Manage Gallery\" > \"Import Image/Video\" to add images.\n",
      "\n",
      "3. Adding Images to Backgrounds:\n",
      "- In the Site Editor, click \"Background\" in the section you want to edit.\n",
      "- Click on “Image” and upload the image you want to use as the background.\n",
      "- Adjust settings like positioning and scaling for a polished look.\n",
      "\n",
      "Remember to ensure your images are high-quality and appropriately sized for the best results.\n",
      "\n",
      "Sources:\n",
      "https://support.strikingly.com/hc/en-us/articles/33571866019995-Adding-Images-to-Your-Website\n",
      "https://support.strikingly.com/hc/en-us/articles/25409142989851-How-to-build-a-website\n",
      "https://support.strikingly.com/hc/en-us/articles/25585768352667-Can-I-upload-a-pdf-file-document-for-my-visitors-to-download\n",
      "https://support.strikingly.com/hc/en-us/articles/32500484566811-Strikingly-AI-Site-Builder\n"
     ]
    }
   ],
   "source": [
    "\n",
    "qa = ConversationalRetrievalChain.from_llm(ChatOpenAI(temperature=0), vectorstore.as_retriever(), return_source_documents=True)\n",
    "use_history = False\n",
    "chat_history = []\n",
    "\n",
    "\n",
    "query = \"How to add images to your website\"\n",
    "result = qa({\"question\": query, \"chat_history\": chat_history if use_history else []})\n",
    "chat_history = [(query, result[\"answer\"])]\n",
    "\n",
    "print('Answer:'+result[\"answer\"]+\"\\n\")\n",
    "print('Sources:')\n",
    "for doc in result[\"source_documents\"]:\n",
    "    print(doc.metadata[\"source\"])"
   ]
  },
  {
   "cell_type": "markdown",
   "id": "2ca8dc66",
   "metadata": {},
   "source": [
    "# Method 2"
   ]
  },
  {
   "cell_type": "code",
   "execution_count": 14,
   "id": "bd17b486",
   "metadata": {},
   "outputs": [
    {
     "name": "stdout",
     "output_type": "stream",
     "text": [
      "Answer: To add images to your website, you can follow the step-by-step guide provided by Strikingly. Additionally, you can use the AI Site Builder feature to generate websites quickly. \n",
      "\n",
      "\n",
      "Sources:  \n",
      "- https://support.strikingly.com/hc/en-us/articles/33571866019995-Adding-Images-to-Your-Website\n",
      "- https://support.strikingly.com/hc/en-us/articles/32500484566811-Strikingly-AI-Site-Builder\n"
     ]
    }
   ],
   "source": [
    "\n",
    "llm = ChatOpenAI(temperature=0)\n",
    "\n",
    "question_generator = LLMChain(llm=llm, prompt=CONDENSE_QUESTION_PROMPT)\n",
    "doc_chain = load_qa_with_sources_chain(llm)\n",
    "\n",
    "chain = ConversationalRetrievalChain(\n",
    "    retriever=vectorstore.as_retriever(),\n",
    "    question_generator=question_generator,\n",
    "    combine_docs_chain=doc_chain,\n",
    ")\n",
    "\n",
    "chat_history = []\n",
    "query = \"How to add images to your website\"\n",
    "result = chain({\"question\": query, \"chat_history\": chat_history if use_history else []})\n",
    "chat_history.append((query, result[\"answer\"]))\n",
    "answer = result['answer'].split(\"SOURCES:\")[0]\n",
    "sources = result['answer'].split(\"SOURCES:\")[1]\n",
    "\n",
    "\n",
    "print(f\"Answer: {answer}\\n\")\n",
    "print(f\"Sources: {sources}\")"
   ]
  }
 ],
 "metadata": {
  "kernelspec": {
   "display_name": "webchatbot_new",
   "language": "python",
   "name": "python3"
  },
  "language_info": {
   "codemirror_mode": {
    "name": "ipython",
    "version": 3
   },
   "file_extension": ".py",
   "mimetype": "text/x-python",
   "name": "python",
   "nbconvert_exporter": "python",
   "pygments_lexer": "ipython3",
   "version": "3.10.16"
  }
 },
 "nbformat": 4,
 "nbformat_minor": 5
}
