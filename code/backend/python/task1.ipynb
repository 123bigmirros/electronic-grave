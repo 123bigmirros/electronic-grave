{
 "cells": [
  {
   "cell_type": "markdown",
   "metadata": {},
   "source": [
    "# import pacakge and set up environment"
   ]
  },
  {
   "cell_type": "code",
   "execution_count": 1,
   "metadata": {},
   "outputs": [],
   "source": [
    "import requests\n",
    "import json\n",
    "import os\n",
    "from langchain.text_splitter import CharacterTextSplitter\n",
    "import faiss\n",
    "from langchain.vectorstores import FAISS\n",
    "from langchain.embeddings import OpenAIEmbeddings\n",
    "import pickle\n",
    "os.environ[\"OPENAI_API_BASE\"] = \"https://api.chatanywhere.tech/v1\"\n",
    "os.environ[\"OPENAI_API_KEY\"] = \"sk-X6qmvKSqTxaeFIrmq9v2KlAN6QJEKwxi6eGX5ads7wYERbx0\"\n"
   ]
  },
  {
   "cell_type": "markdown",
   "metadata": {},
   "source": [
    "# Loading data from Strikingly "
   ]
  },
  {
   "cell_type": "code",
   "execution_count": 2,
   "metadata": {},
   "outputs": [],
   "source": [
    "\n",
    "r = requests.get(\"https://support.strikingly.com/api/v2/help_center/en-us/articles.json\")\n",
    "articles_info = json.loads(r.text)['articles']\n",
    "pages = []\n",
    "from bs4 import BeautifulSoup\n",
    "\n",
    "def extract_text_from(html):\n",
    "    soup = BeautifulSoup(html, features=\"html.parser\")\n",
    "    text = soup.get_text()\n",
    "\n",
    "    lines = (line.strip() for line in text.splitlines())\n",
    "    return '\\n'.join(line for line in lines if line)\n",
    "for article in articles_info:\n",
    "\n",
    "    pages.append({'text': extract_text_from(article['body']), 'source': article['html_url']})\n",
    "    \n",
    "    "
   ]
  },
  {
   "cell_type": "markdown",
   "metadata": {},
   "source": [
    "# Process data"
   ]
  },
  {
   "cell_type": "code",
   "execution_count": 3,
   "metadata": {},
   "outputs": [
    {
     "name": "stdout",
     "output_type": "stream",
     "text": [
      "Split https://support.strikingly.com/hc/en-us/articles/33571866019995-Adding-Images-to-Your-Website into 3 chunks\n",
      "Split https://support.strikingly.com/hc/en-us/articles/33195129962651-Strikingly-s-AI-Logo-Maker into 2 chunks\n",
      "Split https://support.strikingly.com/hc/en-us/articles/32500484566811-Strikingly-AI-Site-Builder into 3 chunks\n",
      "Split https://support.strikingly.com/hc/en-us/articles/30097621863835-Strikingly-Email-Creating-Filters-on-Webmail into 1 chunks\n",
      "Split https://support.strikingly.com/hc/en-us/articles/25888063899931-How-do-I-delete-a-form into 1 chunks\n",
      "Split https://support.strikingly.com/hc/en-us/articles/25585768352667-Can-I-upload-a-pdf-file-document-for-my-visitors-to-download into 1 chunks\n",
      "Split https://support.strikingly.com/hc/en-us/articles/25511392983195-Can-my-website-carry-my-name into 1 chunks\n",
      "Split https://support.strikingly.com/hc/en-us/articles/25511191343899-How-can-I-forward-redirect-my-domain-from-another-registrar-to-my-Strikingly-domain into 1 chunks\n",
      "Split https://support.strikingly.com/hc/en-us/articles/25410099784475-How-can-I-save-my-website-or-page-as-pdf into 1 chunks\n",
      "Split https://support.strikingly.com/hc/en-us/articles/25409142989851-How-to-build-a-website into 1 chunks\n",
      "Split https://support.strikingly.com/hc/en-us/articles/25407824856859-How-to-archive-articles into 1 chunks\n",
      "Split https://support.strikingly.com/hc/en-us/articles/25405615342875-Can-you-explain-how-Strikingly-works into 1 chunks\n",
      "Split https://support.strikingly.com/hc/en-us/articles/25370251760539-Can-you-leave-your-contact-number-so-we-can-exchange-messages-on-WhatsApp into 1 chunks\n",
      "Split https://support.strikingly.com/hc/en-us/articles/25370035353243-How-much-is-the-11-discount into 1 chunks\n",
      "Split https://support.strikingly.com/hc/en-us/articles/25369854499483-Is-it-possible-to-animate-text-for-my-website into 1 chunks\n",
      "Split https://support.strikingly.com/hc/en-us/articles/25369726311707-I-want-to-create-an-app-that-can-sell into 1 chunks\n",
      "Split https://support.strikingly.com/hc/en-us/articles/25369136484507-Can-I-download-my-website into 1 chunks\n",
      "Split https://support.strikingly.com/hc/en-us/articles/25304580611355-Can-I-change-the-content-of-my-website-to-another-language into 1 chunks\n",
      "Split https://support.strikingly.com/hc/en-us/articles/25257399185179-Can-I-Edit-my-Website-Using-My-Smartphone-Mobile-phone into 1 chunks\n",
      "Split https://support.strikingly.com/hc/en-us/articles/25197168871835-Can-I-add-a-review-section-aside-from-the-product-reviews into 1 chunks\n",
      "Split https://support.strikingly.com/hc/en-us/articles/25197101328027-I-want-an-app-website-I-want-to-create-an-app-Can-I-create-an-application-using-Strikingly into 1 chunks\n",
      "Split https://support.strikingly.com/hc/en-us/articles/25179807880859-Price-Cost-for-Subscription into 1 chunks\n",
      "Split https://support.strikingly.com/hc/en-us/articles/25161475090587--Common-Kickstart-Questions-Do-I-need-to-do-anything-else-within-48-to-72-hours-while-my-website-is-created into 1 chunks\n",
      "Split https://support.strikingly.com/hc/en-us/articles/25054119316251-Can-I-get-a-copy-of-my-website-s-HTML-file into 1 chunks\n",
      "Split https://support.strikingly.com/hc/en-us/articles/24989258920987-Can-I-Change-a-Specific-Section-s-Font into 1 chunks\n",
      "Split https://support.strikingly.com/hc/en-us/articles/24985652742683-I-want-to-create-a-Facebook-page into 1 chunks\n",
      "Split https://support.strikingly.com/hc/en-us/articles/24985345266075--Can-I-schedule-an-appointment into 1 chunks\n",
      "Split https://support.strikingly.com/hc/en-us/articles/24985127984283-I-Need-A-Business-Advice into 1 chunks\n",
      "Split https://support.strikingly.com/hc/en-us/articles/24737549672475-The-Infographic-Section into 2 chunks\n",
      "Split https://support.strikingly.com/hc/en-us/articles/24731669705115-The-Grid-Section into 2 chunks\n"
     ]
    }
   ],
   "source": [
    "\n",
    "text_splitter = CharacterTextSplitter(chunk_size=1500, separator=\"\\n\")\n",
    "docs, metadatas = [], []\n",
    "for page in pages:\n",
    "    splits = text_splitter.split_text(page['text'])\n",
    "    docs.extend(splits)\n",
    "    metadatas.extend([{\"source\": page['source']}] * len(splits))\n",
    "    print(f\"Split {page['source']} into {len(splits)} chunks\")\n",
    "\n",
    "\n",
    "store = FAISS.from_texts(docs, OpenAIEmbeddings(), metadatas=metadatas)\n",
    "with open(\"faiss_store.pkl\", \"wb\") as f:\n",
    "    pickle.dump(store, f)"
   ]
  },
  {
   "cell_type": "markdown",
   "metadata": {},
   "source": [
    "# Chat"
   ]
  },
  {
   "cell_type": "code",
   "execution_count": 4,
   "metadata": {},
   "outputs": [
    {
     "name": "stderr",
     "output_type": "stream",
     "text": [
      "/Users/mz/anaconda3/lib/python3.11/site-packages/langchain/chains/qa_with_sources/vector_db.py:66: UserWarning: `VectorDBQAWithSourcesChain` is deprecated - please use `from langchain.chains import RetrievalQAWithSourcesChain`\n",
      "  warnings.warn(\n"
     ]
    },
    {
     "name": "stdout",
     "output_type": "stream",
     "text": [
      "Answer: To add images to your website, you can either click on the \"Background\" option in the Site Editor or use the \"Manage Gallery\" feature. Then proceed to upload the desired image and make necessary adjustments for positioning and scale. Additionally, use the \"Image & Video\" sections in the Site Editor or click on \"Add New Section\" to insert images. \n",
      "\n",
      "Sources: https://support.strikingly.com/hc/en-us/articles/33571866019995-Adding-Images-to-Your-Website, https://support.strikingly.com/hc/en-us/articles/33571866019995-Adding-Images-to-Your-Website, https://support.strikingly.com/hc/en-us/articles/33571866019995-Adding-Images-to-Your-Website, https://support.strikingly.com/hc/en-us/articles/25409142989851-How-to-build-a-website\n"
     ]
    }
   ],
   "source": [
    "import faiss\n",
    "from langchain import OpenAI\n",
    "from langchain.chains import VectorDBQAWithSourcesChain\n",
    "from langchain.chat_models import ChatOpenAI \n",
    "import pickle\n",
    "import argparse\n",
    "import os\n",
    "\n",
    "# parser = argparse.ArgumentParser(description='Paepper.com Q&A')\n",
    "# parser.add_argument('question', type=str, help='Your question for Paepper.com')\n",
    "# args = parser.parse_args()\n",
    "\n",
    "with open(\"faiss_store.pkl\", \"rb\") as f:\n",
    "    store = pickle.load(f)\n",
    "\n",
    "chain = VectorDBQAWithSourcesChain.from_llm(\n",
    "    llm=ChatOpenAI(temperature=0, model_name=\"gpt-3.5-turbo\"),  # 使用ChatOpenAI替代OpenAI\n",
    "    vectorstore=store\n",
    ")\n",
    "result = chain({\"question\": 'How to add images to your website'})\n",
    "\n",
    "print(f\"Answer: {result['answer']}\")\n",
    "print(f\"Sources: {result['sources']}\")\n"
   ]
  }
 ],
 "metadata": {
  "kernelspec": {
   "display_name": "base",
   "language": "python",
   "name": "python3"
  },
  "language_info": {
   "codemirror_mode": {
    "name": "ipython",
    "version": 3
   },
   "file_extension": ".py",
   "mimetype": "text/x-python",
   "name": "python",
   "nbconvert_exporter": "python",
   "pygments_lexer": "ipython3",
   "version": "3.11.0"
  }
 },
 "nbformat": 4,
 "nbformat_minor": 2
}
